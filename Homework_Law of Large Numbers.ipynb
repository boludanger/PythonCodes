{
 "cells": [
  {
   "cell_type": "code",
   "execution_count": 1,
   "metadata": {},
   "outputs": [],
   "source": [
    "import numpy as np\n",
    "from numpy.random import randn"
   ]
  },
  {
   "cell_type": "code",
   "execution_count": 60,
   "metadata": {},
   "outputs": [
    {
     "name": "stdout",
     "output_type": "stream",
     "text": [
      "0.68014\n",
      "68014\n"
     ]
    }
   ],
   "source": [
    "import numpy as np\n",
    "from numpy.random import randn\n",
    "N = 100000  #Sample size\n",
    "counter = 0  #reset counter\n",
    "for i in randn(N): #iterate over random values\n",
    "    if (i>=-1 and i<1): #Check where iteratedvariable falls\n",
    "        counter = counter + 1 #increase counter if conditions is meat\n",
    "answer= counter/N #calculate hit ratio\n",
    "print(answer)\n",
    "print(counter)"
   ]
  },
  {
   "cell_type": "code",
   "execution_count": 55,
   "metadata": {},
   "outputs": [
    {
     "name": "stdout",
     "output_type": "stream",
     "text": [
      "-1.4841300318627357\n",
      "-1.28104582458342\n",
      "0.1679268297142147\n",
      "-1.0131029429708323\n",
      "0.4836996566935867\n",
      "-0.3349795972960057\n",
      "-1.9211421547906373\n",
      "0.8773032574984746\n",
      "-0.49599129090246696\n",
      "-0.18076486816737647\n"
     ]
    }
   ],
   "source": [
    "for i in randn(10):\n",
    "    print(i)"
   ]
  },
  {
   "cell_type": "code",
   "execution_count": 21,
   "metadata": {},
   "outputs": [
    {
     "name": "stdout",
     "output_type": "stream",
     "text": [
      "2\n",
      "3\n",
      "4\n",
      "5\n",
      "6\n",
      "7\n",
      "8\n",
      "9\n",
      "10\n",
      "11\n"
     ]
    }
   ],
   "source": [
    "d=2\n",
    "while d < 12:\n",
    "    print(d)\n",
    "    d=d+1"
   ]
  },
  {
   "cell_type": "code",
   "execution_count": null,
   "metadata": {},
   "outputs": [],
   "source": []
  }
 ],
 "metadata": {
  "kernelspec": {
   "display_name": "Python 3",
   "language": "python",
   "name": "python3"
  },
  "language_info": {
   "codemirror_mode": {
    "name": "ipython",
    "version": 3
   },
   "file_extension": ".py",
   "mimetype": "text/x-python",
   "name": "python",
   "nbconvert_exporter": "python",
   "pygments_lexer": "ipython3",
   "version": "3.7.6"
  }
 },
 "nbformat": 4,
 "nbformat_minor": 4
}
