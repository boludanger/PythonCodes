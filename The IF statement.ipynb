{
 "cells": [
  {
   "cell_type": "code",
   "execution_count": 1,
   "metadata": {},
   "outputs": [],
   "source": [
    "#---- -2 ---- -1 ---- 0 ---- 1 ---- 2 ----"
   ]
  },
  {
   "cell_type": "code",
   "execution_count": 2,
   "metadata": {},
   "outputs": [],
   "source": [
    "import numpy as np\n",
    "from numpy.random import randn"
   ]
  },
  {
   "cell_type": "code",
   "execution_count": 26,
   "metadata": {},
   "outputs": [
    {
     "data": {
      "text/plain": [
       "-1.5673443981525734"
      ]
     },
     "execution_count": 26,
     "metadata": {},
     "output_type": "execute_result"
    }
   ],
   "source": [
    "randn()"
   ]
  },
  {
   "cell_type": "code",
   "execution_count": 49,
   "metadata": {},
   "outputs": [
    {
     "name": "stdout",
     "output_type": "stream",
     "text": [
      "0.4148394397716339\n",
      "None\n"
     ]
    }
   ],
   "source": [
    "#---- -2 ---- -1 ---- 0 ---- 1 ---- 2 ----\n",
    "answer=None\n",
    "x = randn()\n",
    "if x > 1:\n",
    "    answer=\"Greater than 1\"\n",
    "print(x)\n",
    "print(answer)"
   ]
  },
  {
   "cell_type": "code",
   "execution_count": 75,
   "metadata": {},
   "outputs": [
    {
     "name": "stdout",
     "output_type": "stream",
     "text": [
      "-1.6321894953933913\n",
      "Less than 1\n"
     ]
    }
   ],
   "source": [
    "#---- -2 ---- -1 ---- 0 ---- 1 ---- 2 ----\n",
    "answer=None\n",
    "x = randn()\n",
    "if x > 1:\n",
    "    answer=\"Greater than 1\"\n",
    "else:\n",
    "    answer=\"Less than 1\"\n",
    "print(x)\n",
    "print(answer)"
   ]
  },
  {
   "cell_type": "code",
   "execution_count": 88,
   "metadata": {},
   "outputs": [
    {
     "name": "stdout",
     "output_type": "stream",
     "text": [
      "-1.7771284292666645\n",
      "Less than -1\n"
     ]
    }
   ],
   "source": [
    "#---- -2 ---- -1 ---- 0 ---- 1 ---- 2 ----\n",
    "answer=None\n",
    "x = randn()\n",
    "if x > 1:\n",
    "    answer=\"Greater than 1\"\n",
    "else:\n",
    "    if x >= -1:\n",
    "        answer=\"Between -1 and 1\"\n",
    "    else:\n",
    "        answer=\"Less than -1\"\n",
    "print(x)\n",
    "print(answer)"
   ]
  },
  {
   "cell_type": "code",
   "execution_count": 129,
   "metadata": {},
   "outputs": [
    {
     "name": "stdout",
     "output_type": "stream",
     "text": [
      "Greater than 1\n",
      "1.3212300533523988\n",
      "None\n"
     ]
    }
   ],
   "source": [
    "#---- -2 ---- -1 ---- 0 ---- 1 ---- 2 ----\n",
    "#Chained Statements\n",
    "answer=None\n",
    "x = randn()\n",
    "if x > 1:\n",
    "    #answer=\"Greater than 1\"\n",
    "    print(\"Greater than 1\")\n",
    "elif x >= -1:\n",
    "    answer=\"Between -1 and 1\"\n",
    "else:\n",
    "    answer=\"Less than -1\"\n",
    "    print(\"Hello\")\n",
    "print(x)\n",
    "print(answer)"
   ]
  }
 ],
 "metadata": {
  "kernelspec": {
   "display_name": "Python 3",
   "language": "python",
   "name": "python3"
  },
  "language_info": {
   "codemirror_mode": {
    "name": "ipython",
    "version": 3
   },
   "file_extension": ".py",
   "mimetype": "text/x-python",
   "name": "python",
   "nbconvert_exporter": "python",
   "pygments_lexer": "ipython3",
   "version": "3.7.6"
  }
 },
 "nbformat": 4,
 "nbformat_minor": 4
}
